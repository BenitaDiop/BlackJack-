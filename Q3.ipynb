{
 "cells": [
  {
   "cell_type": "markdown",
   "metadata": {},
   "source": [
    "$$\\text{STA} 9705 $$\n",
    "$$\\text{Final Project}$$\n",
    "\n",
    "\n",
    "Directions: You are not allowed to discuss this exam with anyone but your instructor. When\n",
    "answering a question, first write down ***your complete answer**, and **then show relevant SAS**\n",
    "output (if any). You cannot only show SAS output without any illustration. Clearly label all\n",
    "the answers. Attach your full version of SAS code to the end. Any submission not in such\n",
    "format will not be accepted. The data sets are available on Blackboard. Good luck!"
   ]
  },
  {
   "cell_type": "markdown",
   "metadata": {},
   "source": [
    ">#                            Q3 \n",
    "A firm is attempting to evaluate the quality of its sales staff and is trying to find an examination or series of tests that may reveal the potential for good performance in sales. The firm has selected a random sample of 50 sales people and has evaluated each on 3 measures of performance: X 1 = growth of sales, X 2 = profitability of sales, and X 3 = new-account sales. Each of the 50 individuals took each of 4 tests, which purported to measure X 4 = creativity, X 5 = mechanical reasoning, X 6 = abstract reasoning, and X 7 = mathematicalability, respectively. \n",
    "The data are given in file salesman.txt"
   ]
  },
  {
   "cell_type": "markdown",
   "metadata": {},
   "source": [
    "- (a) Fit a factor model with 3 factors using iterated principal factor method. Show initial estimates of communalities, and final estimates of loadings, communalities, specific variances, and the proportion of variance explained by each factor.\n",
    "\n",
    "![](https://raw.githubusercontent.com/BenitaDiop/students/master/env/image.png)\n",
    "![](https://raw.githubusercontent.com/BenitaDiop/students/master/env/image%20(1).png)\n",
    "\n",
    "- (b) Did you find any ‘unusual’ estimate in (a)? If so, explain why it happened.\n",
    "\n",
    "The unsual estimates were in the communalities that exceeded one and the high covariance almost at the value of one between x2 and other variables. \n",
    "\n",
    "- (c) Do an orthogonal rotation to the factors obtained in (a). Show the resulting loadings,communalities, specific variances, and the proportion of variance explained by each factor. Does any of those estimates not change after rotation? Explain.\n",
    "\n",
    "\n",
    "\n",
    "The final communality estimates for the the first variable labeled x1, which accounts for the growth of sales, remains unchanged after rotation. The variance explained has spread over all factors which changed the the variance explained by each of the factors. \n",
    "\n",
    "![](https://raw.githubusercontent.com/BenitaDiop/students/master/env/image%20(2).png)\n",
    "\n",
    "- (d) On which factor does profitability of sales depend most? Why? Use rotated loadings.\n",
    "\n",
    "Profitability of sales, labeled X2 depends most on the first factor when comapred to the second and third factor laodings. Factor 1, explains most of the variance in profitability of sales. \n",
    "\n",
    "\n",
    "\n",
    "![](https://raw.githubusercontent.com/BenitaDiop/students/master/env/image%20(4).png)\n",
    "\n",
    "- (e) Show the complexity of each variable using threshold 0.6, and interpret rotated factors.\n",
    "\n",
    "Variable X1 X2 X3 and X7 passes the complexity threshold of 0.6 with factor 1, variable X4 is the only one that passes the compelixity threshold of 0.6 in factor 2 while X6 is the only one the passes the complexity threshold in factor 3. Variable X5 is the only one that fails to reach the 0.6 threshold in all three factors.\n",
    "\n",
    " \n",
    "\n",
    "![](https://raw.githubusercontent.com/BenitaDiop/students/master/env/image%20(5).png)\n",
    "\n",
    "- (f) Is the model fit in (a) sufficient for doing factor analysis to the data? If yes, explain why. If no, try to improve it.\n",
    "\n",
    "Mechanical Reasoning, X5, has no assoicated factor, hence I would sy that the factor analysis is not sufficient. To improve the model, I believe that  introducing an additional factor will help explain the unassociated variable. \n",
    "\n",
    "![](https://raw.githubusercontent.com/BenitaDiop/students/master/env/image%20(3).png)\n",
    "\n",
    "\n",
    "\n",
    "\n",
    "\n",
    "```SAS\n",
    "options ls=89;\n",
    "data salesman;\n",
    "infile \"/folders/myfolders/salesman.txt\";\n",
    "input X1 X2 X3 X4 X5 X6 X7;\n",
    "run;\n",
    "\n",
    "title 'Factor Analysis of Salesman';\n",
    "proc factor method=prin nfact=3 rotate=varimax plots=all;\n",
    "var X1-x7; \n",
    "\n",
    "proc factor method=prinit nfact=3 priors=smc \n",
    "heywood maxiter=100 rotate=varimax corr plots=all; run; \n",
    "\n",
    "proc factor method=prin priors=smc nfact=3 rotate=varimax plots=all; \n",
    "var X1-X7; run;\n",
    "\n",
    "proc factor method=prin priors=smc nfact=4 rotate=varimax plots=all; \n",
    "var X1-X7; run; \n",
    "\n",
    "\n",
    "```"
   ]
  }
 ],
 "metadata": {
  "kernelspec": {
   "display_name": "Python 3",
   "language": "python",
   "name": "python3"
  },
  "language_info": {
   "codemirror_mode": {
    "name": "ipython",
    "version": 3
   },
   "file_extension": ".py",
   "mimetype": "text/x-python",
   "name": "python",
   "nbconvert_exporter": "python",
   "pygments_lexer": "ipython3",
   "version": "3.7.6"
  }
 },
 "nbformat": 4,
 "nbformat_minor": 4
}
